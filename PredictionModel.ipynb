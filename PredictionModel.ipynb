{
 "cells": [
  {
   "cell_type": "code",
   "execution_count": 1,
   "metadata": {},
   "outputs": [],
   "source": [
    "import numpy as np\n",
    "import tensorflow as tf\n",
    "from tensorflow.keras.preprocessing.text import Tokenizer\n",
    "from tensorflow.keras.preprocessing.sequence import pad_sequences\n",
    "from tensorflow.keras.models import Sequential\n",
    "from tensorflow.keras.layers import Embedding, LSTM, Dense"
   ]
  },
  {
   "cell_type": "code",
   "execution_count": 3,
   "metadata": {},
   "outputs": [],
   "source": [
    "# Read the text file\n",
    "with open('sherlock-holm.es_stories_plain-text_advs.txt', 'r', encoding='utf-8') as file:\n",
    "    text = file.read()"
   ]
  },
  {
   "cell_type": "code",
   "execution_count": 4,
   "metadata": {},
   "outputs": [],
   "source": [
    "tokenizer = Tokenizer()\n",
    "tokenizer.fit_on_texts([text])\n",
    "total_words = len(tokenizer.word_index) + 1"
   ]
  },
  {
   "cell_type": "code",
   "execution_count": 5,
   "metadata": {},
   "outputs": [],
   "source": [
    "input_sequences = []\n",
    "for line in text.split('\\n'):\n",
    "    token_list = tokenizer.texts_to_sequences([line])[0]\n",
    "    for i in range(1, len(token_list)):\n",
    "        n_gram_sequence = token_list[:i+1]\n",
    "        input_sequences.append(n_gram_sequence)"
   ]
  },
  {
   "cell_type": "code",
   "execution_count": 6,
   "metadata": {},
   "outputs": [],
   "source": [
    "max_sequence_len = max([len(seq) for seq in input_sequences])\n",
    "input_sequences = np.array(pad_sequences(input_sequences, maxlen=max_sequence_len, padding='pre'))\n",
    "\n",
    "X = input_sequences[:, :-1]\n",
    "y = input_sequences[:, -1]"
   ]
  },
  {
   "cell_type": "code",
   "execution_count": 7,
   "metadata": {},
   "outputs": [
    {
     "name": "stdout",
     "output_type": "stream",
     "text": [
      "Model: \"sequential\"\n",
      "_________________________________________________________________\n",
      " Layer (type)                Output Shape              Param #   \n",
      "=================================================================\n",
      " embedding (Embedding)       (None, 17, 100)           820000    \n",
      "                                                                 \n",
      " lstm (LSTM)                 (None, 150)               150600    \n",
      "                                                                 \n",
      " dense (Dense)               (None, 8200)              1238200   \n",
      "                                                                 \n",
      "=================================================================\n",
      "Total params: 2208800 (8.43 MB)\n",
      "Trainable params: 2208800 (8.43 MB)\n",
      "Non-trainable params: 0 (0.00 Byte)\n",
      "_________________________________________________________________\n",
      "None\n"
     ]
    }
   ],
   "source": [
    "y = np.array(tf.keras.utils.to_categorical(y, num_classes=total_words))\n",
    "model = Sequential()\n",
    "model.add(Embedding(total_words, 100, input_length=max_sequence_len-1))\n",
    "model.add(LSTM(150))\n",
    "model.add(Dense(total_words, activation='softmax'))\n",
    "print(model.summary())"
   ]
  },
  {
   "cell_type": "code",
   "execution_count": 8,
   "metadata": {},
   "outputs": [
    {
     "name": "stdout",
     "output_type": "stream",
     "text": [
      "Epoch 1/100\n",
      "3010/3010 [==============================] - 53s 17ms/step - loss: 6.2535 - accuracy: 0.0759\n",
      "Epoch 2/100\n",
      "3010/3010 [==============================] - 53s 18ms/step - loss: 5.5164 - accuracy: 0.1233\n",
      "Epoch 3/100\n",
      "3010/3010 [==============================] - 53s 17ms/step - loss: 5.1367 - accuracy: 0.1464\n",
      "Epoch 4/100\n",
      "3010/3010 [==============================] - 54s 18ms/step - loss: 4.8090 - accuracy: 0.1640\n",
      "Epoch 5/100\n",
      "3010/3010 [==============================] - 54s 18ms/step - loss: 4.5059 - accuracy: 0.1809\n",
      "Epoch 6/100\n",
      "3010/3010 [==============================] - 52s 17ms/step - loss: 4.2258 - accuracy: 0.2021\n",
      "Epoch 7/100\n",
      "3010/3010 [==============================] - 52s 17ms/step - loss: 3.9588 - accuracy: 0.2240\n",
      "Epoch 8/100\n",
      "3010/3010 [==============================] - 53s 18ms/step - loss: 3.7062 - accuracy: 0.2532\n",
      "Epoch 9/100\n",
      "3010/3010 [==============================] - 54s 18ms/step - loss: 3.4661 - accuracy: 0.2842\n",
      "Epoch 10/100\n",
      "3010/3010 [==============================] - 57s 19ms/step - loss: 3.2438 - accuracy: 0.3173\n",
      "Epoch 11/100\n",
      "3010/3010 [==============================] - 55s 18ms/step - loss: 3.0365 - accuracy: 0.3517\n",
      "Epoch 12/100\n",
      "3010/3010 [==============================] - 56s 19ms/step - loss: 2.8437 - accuracy: 0.3854\n",
      "Epoch 13/100\n",
      "3010/3010 [==============================] - 56s 19ms/step - loss: 2.6668 - accuracy: 0.4180\n",
      "Epoch 14/100\n",
      "3010/3010 [==============================] - 54s 18ms/step - loss: 2.5046 - accuracy: 0.4504\n",
      "Epoch 15/100\n",
      "3010/3010 [==============================] - 53s 18ms/step - loss: 2.3529 - accuracy: 0.4806\n",
      "Epoch 16/100\n",
      "3010/3010 [==============================] - 54s 18ms/step - loss: 2.2145 - accuracy: 0.5078\n",
      "Epoch 17/100\n",
      "3010/3010 [==============================] - 57s 19ms/step - loss: 2.0867 - accuracy: 0.5342\n",
      "Epoch 18/100\n",
      "3010/3010 [==============================] - 55s 18ms/step - loss: 1.9700 - accuracy: 0.5591\n",
      "Epoch 19/100\n",
      "3010/3010 [==============================] - 56s 19ms/step - loss: 1.8639 - accuracy: 0.5802\n",
      "Epoch 20/100\n",
      "3010/3010 [==============================] - 57s 19ms/step - loss: 1.7648 - accuracy: 0.6023\n",
      "Epoch 21/100\n",
      "3010/3010 [==============================] - 57s 19ms/step - loss: 1.6734 - accuracy: 0.6233\n",
      "Epoch 22/100\n",
      "3010/3010 [==============================] - 55s 18ms/step - loss: 1.5901 - accuracy: 0.6410\n",
      "Epoch 23/100\n",
      "3010/3010 [==============================] - 57s 19ms/step - loss: 1.5137 - accuracy: 0.6575\n",
      "Epoch 24/100\n",
      "3010/3010 [==============================] - 57s 19ms/step - loss: 1.4442 - accuracy: 0.6713\n",
      "Epoch 25/100\n",
      "3010/3010 [==============================] - 58s 19ms/step - loss: 1.3765 - accuracy: 0.6877\n",
      "Epoch 26/100\n",
      "3010/3010 [==============================] - 61s 20ms/step - loss: 1.3169 - accuracy: 0.7008\n",
      "Epoch 27/100\n",
      "3010/3010 [==============================] - 57s 19ms/step - loss: 1.2612 - accuracy: 0.7126\n",
      "Epoch 28/100\n",
      "3010/3010 [==============================] - 60s 20ms/step - loss: 1.2092 - accuracy: 0.7248\n",
      "Epoch 29/100\n",
      "3010/3010 [==============================] - 58s 19ms/step - loss: 1.1602 - accuracy: 0.7348\n",
      "Epoch 30/100\n",
      "3010/3010 [==============================] - 57s 19ms/step - loss: 1.1165 - accuracy: 0.7445\n",
      "Epoch 31/100\n",
      "3010/3010 [==============================] - 57s 19ms/step - loss: 1.0769 - accuracy: 0.7540\n",
      "Epoch 32/100\n",
      "3010/3010 [==============================] - 56s 19ms/step - loss: 1.0394 - accuracy: 0.7606\n",
      "Epoch 33/100\n",
      "3010/3010 [==============================] - 56s 18ms/step - loss: 1.0036 - accuracy: 0.7688\n",
      "Epoch 34/100\n",
      "3010/3010 [==============================] - 56s 18ms/step - loss: 0.9705 - accuracy: 0.7773\n",
      "Epoch 35/100\n",
      "3010/3010 [==============================] - 57s 19ms/step - loss: 0.9411 - accuracy: 0.7827\n",
      "Epoch 36/100\n",
      "3010/3010 [==============================] - 57s 19ms/step - loss: 0.9138 - accuracy: 0.7893\n",
      "Epoch 37/100\n",
      "3010/3010 [==============================] - 58s 19ms/step - loss: 0.8869 - accuracy: 0.7942\n",
      "Epoch 38/100\n",
      "3010/3010 [==============================] - 57s 19ms/step - loss: 0.8627 - accuracy: 0.8013\n",
      "Epoch 39/100\n",
      "3010/3010 [==============================] - 57s 19ms/step - loss: 0.8413 - accuracy: 0.8042\n",
      "Epoch 40/100\n",
      "3010/3010 [==============================] - 58s 19ms/step - loss: 0.8208 - accuracy: 0.8087\n",
      "Epoch 41/100\n",
      "3010/3010 [==============================] - 59s 20ms/step - loss: 0.7999 - accuracy: 0.8137\n",
      "Epoch 42/100\n",
      "3010/3010 [==============================] - 56s 19ms/step - loss: 0.7829 - accuracy: 0.8163\n",
      "Epoch 43/100\n",
      "3010/3010 [==============================] - 56s 18ms/step - loss: 0.7707 - accuracy: 0.8188\n",
      "Epoch 44/100\n",
      "3010/3010 [==============================] - 56s 19ms/step - loss: 0.7523 - accuracy: 0.8221\n",
      "Epoch 45/100\n",
      "3010/3010 [==============================] - 58s 19ms/step - loss: 0.7344 - accuracy: 0.8268\n",
      "Epoch 46/100\n",
      "3010/3010 [==============================] - 57s 19ms/step - loss: 0.7223 - accuracy: 0.8293\n",
      "Epoch 47/100\n",
      "3010/3010 [==============================] - 57s 19ms/step - loss: 0.7067 - accuracy: 0.8331\n",
      "Epoch 48/100\n",
      "3010/3010 [==============================] - 57s 19ms/step - loss: 0.6967 - accuracy: 0.8346\n",
      "Epoch 49/100\n",
      "3010/3010 [==============================] - 57s 19ms/step - loss: 0.6864 - accuracy: 0.8369\n",
      "Epoch 50/100\n",
      "3010/3010 [==============================] - 56s 19ms/step - loss: 0.6770 - accuracy: 0.8383\n",
      "Epoch 51/100\n",
      "3010/3010 [==============================] - 57s 19ms/step - loss: 0.6677 - accuracy: 0.8401\n",
      "Epoch 52/100\n",
      "3010/3010 [==============================] - 57s 19ms/step - loss: 0.6577 - accuracy: 0.8429\n",
      "Epoch 53/100\n",
      "3010/3010 [==============================] - 56s 18ms/step - loss: 0.6480 - accuracy: 0.8443\n",
      "Epoch 54/100\n",
      "3010/3010 [==============================] - 57s 19ms/step - loss: 0.6405 - accuracy: 0.8460\n",
      "Epoch 55/100\n",
      "3010/3010 [==============================] - 57s 19ms/step - loss: 0.6335 - accuracy: 0.8469\n",
      "Epoch 56/100\n",
      "3010/3010 [==============================] - 58s 19ms/step - loss: 0.6240 - accuracy: 0.8487\n",
      "Epoch 57/100\n",
      "3010/3010 [==============================] - 58s 19ms/step - loss: 0.6221 - accuracy: 0.8491\n",
      "Epoch 58/100\n",
      "3010/3010 [==============================] - 57s 19ms/step - loss: 0.6164 - accuracy: 0.8500\n",
      "Epoch 59/100\n",
      "3010/3010 [==============================] - 60s 20ms/step - loss: 0.6101 - accuracy: 0.8515\n",
      "Epoch 60/100\n",
      "3010/3010 [==============================] - 63s 21ms/step - loss: 0.6043 - accuracy: 0.8516\n",
      "Epoch 61/100\n",
      "3010/3010 [==============================] - 57s 19ms/step - loss: 0.5951 - accuracy: 0.8553\n",
      "Epoch 62/100\n",
      "3010/3010 [==============================] - 58s 19ms/step - loss: 0.5916 - accuracy: 0.8545\n",
      "Epoch 63/100\n",
      "3010/3010 [==============================] - 57s 19ms/step - loss: 0.5841 - accuracy: 0.8573\n",
      "Epoch 64/100\n",
      "3010/3010 [==============================] - 55s 18ms/step - loss: 0.5842 - accuracy: 0.8559\n",
      "Epoch 65/100\n",
      "3010/3010 [==============================] - 60s 20ms/step - loss: 0.5774 - accuracy: 0.8584\n",
      "Epoch 66/100\n",
      "3010/3010 [==============================] - 58s 19ms/step - loss: 0.5795 - accuracy: 0.8556\n",
      "Epoch 67/100\n",
      "3010/3010 [==============================] - 59s 20ms/step - loss: 0.5742 - accuracy: 0.8577\n",
      "Epoch 68/100\n",
      "3010/3010 [==============================] - 58s 19ms/step - loss: 0.5684 - accuracy: 0.8589\n",
      "Epoch 69/100\n",
      "3010/3010 [==============================] - 58s 19ms/step - loss: 0.5660 - accuracy: 0.8579\n",
      "Epoch 70/100\n",
      "3010/3010 [==============================] - 59s 20ms/step - loss: 0.5627 - accuracy: 0.8583\n",
      "Epoch 71/100\n",
      "3010/3010 [==============================] - 59s 20ms/step - loss: 0.5589 - accuracy: 0.8593\n",
      "Epoch 72/100\n",
      "3010/3010 [==============================] - 59s 19ms/step - loss: 0.5561 - accuracy: 0.8607\n",
      "Epoch 73/100\n",
      "3010/3010 [==============================] - 56s 19ms/step - loss: 0.5521 - accuracy: 0.8618\n",
      "Epoch 74/100\n",
      "3010/3010 [==============================] - 55s 18ms/step - loss: 0.5493 - accuracy: 0.8613\n",
      "Epoch 75/100\n",
      "3010/3010 [==============================] - 54s 18ms/step - loss: 0.5472 - accuracy: 0.8616\n",
      "Epoch 76/100\n",
      "3010/3010 [==============================] - 55s 18ms/step - loss: 0.5487 - accuracy: 0.8611\n",
      "Epoch 77/100\n",
      "3010/3010 [==============================] - 56s 19ms/step - loss: 0.5447 - accuracy: 0.8622\n",
      "Epoch 78/100\n",
      "3010/3010 [==============================] - 56s 18ms/step - loss: 0.5412 - accuracy: 0.8626\n",
      "Epoch 79/100\n",
      "3010/3010 [==============================] - 55s 18ms/step - loss: 0.5389 - accuracy: 0.8634\n",
      "Epoch 80/100\n",
      "3010/3010 [==============================] - 57s 19ms/step - loss: 0.5337 - accuracy: 0.8642\n",
      "Epoch 81/100\n",
      "3010/3010 [==============================] - 61s 20ms/step - loss: 0.5306 - accuracy: 0.8655\n",
      "Epoch 82/100\n",
      "3010/3010 [==============================] - 61s 20ms/step - loss: 0.5356 - accuracy: 0.8636\n",
      "Epoch 83/100\n",
      "3010/3010 [==============================] - 59s 20ms/step - loss: 0.5323 - accuracy: 0.8640\n",
      "Epoch 84/100\n",
      "3010/3010 [==============================] - 63s 21ms/step - loss: 0.5336 - accuracy: 0.8629\n",
      "Epoch 85/100\n",
      "3010/3010 [==============================] - 58s 19ms/step - loss: 0.5294 - accuracy: 0.8649\n",
      "Epoch 86/100\n",
      "3010/3010 [==============================] - 57s 19ms/step - loss: 0.5246 - accuracy: 0.8672\n",
      "Epoch 87/100\n",
      "3010/3010 [==============================] - 59s 19ms/step - loss: 0.5251 - accuracy: 0.8648\n",
      "Epoch 88/100\n",
      "3010/3010 [==============================] - 55s 18ms/step - loss: 0.5256 - accuracy: 0.8647\n",
      "Epoch 89/100\n",
      "3010/3010 [==============================] - 55s 18ms/step - loss: 0.5276 - accuracy: 0.8638\n",
      "Epoch 90/100\n",
      "3010/3010 [==============================] - 57s 19ms/step - loss: 0.5208 - accuracy: 0.8653\n",
      "Epoch 91/100\n",
      "3010/3010 [==============================] - 58s 19ms/step - loss: 0.5235 - accuracy: 0.8655\n",
      "Epoch 92/100\n",
      "3010/3010 [==============================] - 60s 20ms/step - loss: 0.5238 - accuracy: 0.8638\n",
      "Epoch 93/100\n",
      "3010/3010 [==============================] - 59s 20ms/step - loss: 0.5185 - accuracy: 0.8654\n",
      "Epoch 94/100\n",
      "3010/3010 [==============================] - 57s 19ms/step - loss: 0.5194 - accuracy: 0.8658\n",
      "Epoch 95/100\n",
      "3010/3010 [==============================] - 56s 19ms/step - loss: 0.5229 - accuracy: 0.8642\n",
      "Epoch 96/100\n",
      "3010/3010 [==============================] - 57s 19ms/step - loss: 0.5172 - accuracy: 0.8653\n",
      "Epoch 97/100\n",
      "3010/3010 [==============================] - 56s 19ms/step - loss: 0.5109 - accuracy: 0.8681\n",
      "Epoch 98/100\n",
      "3010/3010 [==============================] - 56s 19ms/step - loss: 0.5136 - accuracy: 0.8665\n",
      "Epoch 99/100\n",
      "3010/3010 [==============================] - 56s 19ms/step - loss: 0.5158 - accuracy: 0.8643\n",
      "Epoch 100/100\n",
      "3010/3010 [==============================] - 55s 18ms/step - loss: 0.5082 - accuracy: 0.8672\n"
     ]
    },
    {
     "data": {
      "text/plain": [
       "<keras.src.callbacks.History at 0x161ead9c0>"
      ]
     },
     "execution_count": 8,
     "metadata": {},
     "output_type": "execute_result"
    }
   ],
   "source": [
    "model.compile(loss='categorical_crossentropy', optimizer='adam', metrics=['accuracy'])\n",
    "model.fit(X, y, epochs=100, verbose=1)"
   ]
  },
  {
   "cell_type": "code",
   "execution_count": 9,
   "metadata": {},
   "outputs": [],
   "source": [
    "seed_text = \"I will leave if they\"\n",
    "next_words = 3"
   ]
  },
  {
   "cell_type": "code",
   "execution_count": 10,
   "metadata": {},
   "outputs": [
    {
     "name": "stdout",
     "output_type": "stream",
     "text": [
      "1/1 [==============================] - 0s 241ms/step\n",
      "1/1 [==============================] - 0s 23ms/step\n",
      "1/1 [==============================] - 0s 11ms/step\n"
     ]
    }
   ],
   "source": [
    "for _ in range(next_words):\n",
    "    token_list = tokenizer.texts_to_sequences([seed_text])[0]\n",
    "    token_list = pad_sequences([token_list], maxlen=max_sequence_len-1, padding='pre')\n",
    "    predicted = np.argmax(model.predict(token_list), axis=-1)\n",
    "    output_word = \"\"\n",
    "    for word, index in tokenizer.word_index.items():\n",
    "        if index == predicted:\n",
    "            output_word = word\n",
    "            break\n",
    "    seed_text += \" \" + output_word\n"
   ]
  },
  {
   "cell_type": "code",
   "execution_count": 11,
   "metadata": {},
   "outputs": [
    {
     "name": "stdout",
     "output_type": "stream",
     "text": [
      "I will leave if they may help from\n"
     ]
    }
   ],
   "source": [
    "print(seed_text)"
   ]
  }
 ],
 "metadata": {
  "kernelspec": {
   "display_name": "base",
   "language": "python",
   "name": "python3"
  },
  "language_info": {
   "codemirror_mode": {
    "name": "ipython",
    "version": 3
   },
   "file_extension": ".py",
   "mimetype": "text/x-python",
   "name": "python",
   "nbconvert_exporter": "python",
   "pygments_lexer": "ipython3",
   "version": "3.10.9"
  }
 },
 "nbformat": 4,
 "nbformat_minor": 2
}
